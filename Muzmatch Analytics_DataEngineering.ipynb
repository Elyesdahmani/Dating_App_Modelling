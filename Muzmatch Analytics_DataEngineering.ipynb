{
 "cells": [
  {
   "cell_type": "code",
   "execution_count": 429,
   "metadata": {},
   "outputs": [],
   "source": [
    "import os\n",
    "import numpy as np\n",
    "import seaborn as sn\n",
    "import pandas as pd\n",
    "import matplotlib.pyplot as plt\n",
    "from pandas.io import sql\n",
    "import MySQLdb\n",
    "import pandas.io.sql as psql\n",
    "import tensorflow as tf\n",
    "import time\n",
    "import collections\n",
    "import datetime\n",
    "from sqlalchemy import create_engine\n",
    "import pymysql\n",
    "from keras.utils import to_categorical\n",
    "\n",
    "#pip install mysqlclient \n",
    "#!pip install -q -U keras-tuner"
   ]
  },
  {
   "cell_type": "code",
   "execution_count": 435,
   "metadata": {},
   "outputs": [],
   "source": [
    "maus = pd.read_csv(\"maus_sample.csv\")\n",
    "transactions = pd.read_csv(\"transactions_sample.csv\")"
   ]
  },
  {
   "cell_type": "code",
   "execution_count": 409,
   "metadata": {},
   "outputs": [],
   "source": [
    "members = pd.read_csv(\"members_sample.csv\")"
   ]
  },
  {
   "cell_type": "markdown",
   "metadata": {},
   "source": [
    "# Which Device has the most premium members ?"
   ]
  },
  {
   "cell_type": "code",
   "execution_count": 352,
   "metadata": {},
   "outputs": [
    {
     "name": "stdout",
     "output_type": "stream",
     "text": [
      "Proportion of premium users :\n",
      "For Android :  41.88940092165899 %\n",
      "For IOS :  58.11059907834102 %\n"
     ]
    }
   ],
   "source": [
    "members_premium = members[[\"deviceOS\",\"premium\"]]\n",
    "members_premium.head()\n",
    "dum = pd.get_dummies(members_premium)\n",
    "dum = dum[dum['premium'] == 1]\n",
    "\n",
    "total = members_premium.premium.sum()\n",
    "prem_android = dum['deviceOS_android'].sum()\n",
    "prem_ios = dum['deviceOS_iOS'].sum()\n",
    "print('Proportion of premium users :')\n",
    "print('For Android : ',prem_android/total * 100,'%')\n",
    "print('For IOS : ',prem_ios/total * 100,'%')"
   ]
  },
  {
   "cell_type": "code",
   "execution_count": 347,
   "metadata": {
    "scrolled": true
   },
   "outputs": [
    {
     "data": {
      "image/png": "[encoded data removed]",
      "text/plain": [
       "<Figure size 432x288 with 1 Axes>"
      ]
     },
     "metadata": {
      "needs_background": "light"
     },
     "output_type": "display_data"
    }
   ],
   "source": [
    "#np.sum(members_premium,axis=1)\n",
    "\n",
    "prem = [prem_android,prem_ios]\n",
    "devices = [\"android\",\"ios\"]\n",
    "fig = plt.figure()\n",
    "ax = fig.add_axes([0,0,1,1])\n",
    "plt.ylabel('Nb of premium users')\n",
    "plt.xlabel('Devices');\n",
    "plt.title('Number of premium users per device', fontsize=10)\n",
    "ax.bar(devices,prem)\n",
    "\n",
    "plt.show()"
   ]
  },
  {
   "cell_type": "markdown",
   "metadata": {},
   "source": [
    "With 1261 premium users, iOS has the largest number of mobile users. "
   ]
  },
  {
   "cell_type": "markdown",
   "metadata": {},
   "source": [
    "# Which countries has the oldest members ?"
   ]
  },
  {
   "cell_type": "code",
   "execution_count": 81,
   "metadata": {},
   "outputs": [
    {
     "data": {
      "text/html": [
       "<div>\n",
       "<style scoped>\n",
       "    .dataframe tbody tr th:only-of-type {\n",
       "        vertical-align: middle;\n",
       "    }\n",
       "\n",
       "    .dataframe tbody tr th {\n",
       "        vertical-align: top;\n",
       "    }\n",
       "\n",
       "    .dataframe thead th {\n",
       "        text-align: right;\n",
       "    }\n",
       "</style>\n",
       "<table border=\"1\" class=\"dataframe\">\n",
       "  <thead>\n",
       "    <tr style=\"text-align: right;\">\n",
       "      <th></th>\n",
       "      <th>dobYEAR</th>\n",
       "      <th>ipAddressCountryCode</th>\n",
       "    </tr>\n",
       "  </thead>\n",
       "  <tbody>\n",
       "    <tr>\n",
       "      <th>2576</th>\n",
       "      <td>1903.0</td>\n",
       "      <td>MA</td>\n",
       "    </tr>\n",
       "    <tr>\n",
       "      <th>31317</th>\n",
       "      <td>1903.0</td>\n",
       "      <td>NO</td>\n",
       "    </tr>\n",
       "    <tr>\n",
       "      <th>87279</th>\n",
       "      <td>1903.0</td>\n",
       "      <td>US</td>\n",
       "    </tr>\n",
       "  </tbody>\n",
       "</table>\n",
       "</div>"
      ],
      "text/plain": [
       "       dobYEAR ipAddressCountryCode\n",
       "2576    1903.0                   MA\n",
       "31317   1903.0                   NO\n",
       "87279   1903.0                   US"
      ]
     },
     "execution_count": 81,
     "metadata": {},
     "output_type": "execute_result"
    }
   ],
   "source": [
    "members_country = members[[\"dobYEAR\",\"ipAddressCountryCode\"]]\n",
    "grp = members_country.groupby([\"ipAddressCountryCode\"])[\"dobYEAR\"].min()\n",
    "members_country[members_country.dobYEAR == members_country.dobYEAR.min()]"
   ]
  },
  {
   "cell_type": "markdown",
   "metadata": {},
   "source": [
    "The countries with the oldest members are MA,NO,US so : Morocco, Norway, United States of America"
   ]
  },
  {
   "cell_type": "markdown",
   "metadata": {},
   "source": [
    "# Plot the numbers of member by refSource"
   ]
  },
  {
   "cell_type": "code",
   "execution_count": 407,
   "metadata": {},
   "outputs": [
    {
     "data": {
      "text/html": [
       "<div>\n",
       "<style scoped>\n",
       "    .dataframe tbody tr th:only-of-type {\n",
       "        vertical-align: middle;\n",
       "    }\n",
       "\n",
       "    .dataframe tbody tr th {\n",
       "        vertical-align: top;\n",
       "    }\n",
       "\n",
       "    .dataframe thead th {\n",
       "        text-align: right;\n",
       "    }\n",
       "</style>\n",
       "<table border=\"1\" class=\"dataframe\">\n",
       "  <thead>\n",
       "    <tr style=\"text-align: right;\">\n",
       "      <th></th>\n",
       "      <th>refSource</th>\n",
       "      <th>memberID</th>\n",
       "    </tr>\n",
       "  </thead>\n",
       "  <tbody>\n",
       "    <tr>\n",
       "      <th>0</th>\n",
       "      <td>(not set)</td>\n",
       "      <td>369</td>\n",
       "    </tr>\n",
       "    <tr>\n",
       "      <th>1</th>\n",
       "      <td>Apple Search Ads</td>\n",
       "      <td>632</td>\n",
       "    </tr>\n",
       "    <tr>\n",
       "      <th>2</th>\n",
       "      <td>Facebook</td>\n",
       "      <td>52</td>\n",
       "    </tr>\n",
       "    <tr>\n",
       "      <th>3</th>\n",
       "      <td>Optional(Apple Search Ads)</td>\n",
       "      <td>55</td>\n",
       "    </tr>\n",
       "    <tr>\n",
       "      <th>6</th>\n",
       "      <td>adperio</td>\n",
       "      <td>168</td>\n",
       "    </tr>\n",
       "  </tbody>\n",
       "</table>\n",
       "</div>"
      ],
      "text/plain": [
       "                    refSource  memberID\n",
       "0                   (not set)       369\n",
       "1            Apple Search Ads       632\n",
       "2                    Facebook        52\n",
       "3  Optional(Apple Search Ads)        55\n",
       "6                     adperio       168"
      ]
     },
     "execution_count": 407,
     "metadata": {},
     "output_type": "execute_result"
    }
   ],
   "source": [
    "sources = members.groupby([\"refSource\"]).count()[\"memberID\"]\n",
    "refgoogle = members[members['refSource'].str.contains(\"www.google\",na=False)] \n",
    "reffb = members[members['refSource'].str.contains(\"Facebook Ads\",na=False)] \n",
    "refadwords = members[members['refSource'].str.contains(\"adwords|AdWords\",na=False)] \n",
    "\n",
    "\n",
    "#We replace all refsource www.google.xxx by only one google link\n",
    "lgoogle = list(refgoogle.refSource.unique())\n",
    "lfb = list(reffb.refSource.unique())\n",
    "ladw = list(refadwords.refSource.unique())\n",
    "lsnap = list(refsnap.refSource.unique())\n",
    "\n",
    "s_ref = 0\n",
    "s_fb = 0\n",
    "s_adw = 0\n",
    "s_org = 0\n",
    "s_snap = 0\n",
    "\n",
    "for elem in lgoogle:\n",
    "    s_ref += sources[elem]\n",
    "    sources = sources.drop(index=elem)\n",
    "for elem in lfb:\n",
    "    s_fb += sources[elem]\n",
    "    sources = sources.drop(index=elem)\n",
    "for elem in ladw:\n",
    "    s_adw += sources[elem]\n",
    "    sources = sources.drop(index=elem)\n",
    "for elem in lsnap:\n",
    "    s_snap += sources[elem]\n",
    "    sources = sources.drop(index=elem)\n",
    "\n",
    "\"\"\"\"reforganic = members[members['refSource'].str.contains(\"organicSearch\",na=False)] \n",
    "lorga = list(reforganic.refSource.unique())\n",
    "for elem in lorga:\n",
    "    s_org += sources[elem]\n",
    "    sources = sources.drop(index=elem)\"\"\"\n",
    "\n",
    "sources = sources.drop(index='nil')\n",
    "sources = sources.reset_index()\n",
    "sources = sources.append({'refSource': 'www.google.com','memberID':s_ref},ignore_index=True)\n",
    "sources = sources.append({'refSource': 'Facebook Ads','memberID':s_fb},ignore_index=True)\n",
    "sources = sources.append({'refSource': 'Google Adwords','memberID':s_adw},ignore_index=True)\n",
    "#sources = sources.append({'refSource': 'Organic Search','memberID':s_org},ignore_index=True)\n",
    "sources = sources.append({'refSource': 'Snapchat','memberID':s_snap},ignore_index=True)\n",
    "sources = sources[sources['memberID']>40]\n",
    "sources.head()"
   ]
  },
  {
   "cell_type": "code",
   "execution_count": 384,
   "metadata": {},
   "outputs": [
    {
     "data": {
      "image/png": "[encoded data removed]",
      "text/plain": [
       "<Figure size 432x288 with 1 Axes>"
      ]
     },
     "metadata": {
      "needs_background": "light"
     },
     "output_type": "display_data"
    }
   ],
   "source": [
    "colref = sources.refSource\n",
    "colcount = sources.memberID\n",
    "\n",
    "fig = plt.figure()\n",
    "ax = fig.add_axes([1,1,2,3])\n",
    "plt.ylabel('Nb of users')\n",
    "plt.xlabel('RefSource');\n",
    "plt.xticks(rotation='vertical')\n",
    "plt.title('Number of users per refsource', fontsize=10)\n",
    "ax.bar(colref,colcount)\n",
    "\n",
    "plt.show()"
   ]
  },
  {
   "cell_type": "markdown",
   "metadata": {},
   "source": [
    "We only keep the refSource with at least 40 members."
   ]
  },
  {
   "cell_type": "markdown",
   "metadata": {},
   "source": [
    "# Plot MAUs by gender?"
   ]
  },
  {
   "cell_type": "code",
   "execution_count": 388,
   "metadata": {},
   "outputs": [
    {
     "data": {
      "image/png": "[encoded data removed]",
      "text/plain": [
       "<Figure size 432x288 with 1 Axes>"
      ]
     },
     "metadata": {
      "needs_background": "light"
     },
     "output_type": "display_data"
    },
    {
     "name": "stdout",
     "output_type": "stream",
     "text": [
      "106657\n",
      "113991\n"
     ]
    }
   ],
   "source": [
    "gender = members[['gender','memberID']]\n",
    "res = pd.merge(maus,gender,how='left',on=['memberID','memberID'])\n",
    "res = res.drop_duplicates(subset = [\"memberID\"])\n",
    "resgender = res['gender'].value_counts()\n",
    "\n",
    "fig = plt.figure()\n",
    "ax = fig.add_axes([0,0,1,1])\n",
    "plt.ylabel('Nb of most active users')\n",
    "plt.xlabel('Gender');\n",
    "plt.title('Number of users per refsource', fontsize=10)\n",
    "ax.bar(resgender.index,resgender.values)\n",
    "\n",
    "plt.show()\n",
    "print(len(res))\n",
    "print(len(members))"
   ]
  },
  {
   "cell_type": "markdown",
   "metadata": {},
   "source": [
    "# Which OS (deviceOS) has the largest number of transactions?"
   ]
  },
  {
   "cell_type": "markdown",
   "metadata": {},
   "source": [
    "Include not validated and cancelled transaction"
   ]
  },
  {
   "cell_type": "code",
   "execution_count": 417,
   "metadata": {},
   "outputs": [
    {
     "data": {
      "text/plain": [
       "24067"
      ]
     },
     "execution_count": 417,
     "metadata": {},
     "output_type": "execute_result"
    }
   ],
   "source": [
    "transfreq = transactions.groupby(['memberID']).count()\n",
    "transcount = transfreq[['id']] \n",
    "transcount = transcount.rename(columns={\"id\": \"Transactions_count\"})\n",
    "transcount.head()\n",
    "#transactions.isna().sum()\n",
    "#transfreq['productID'].sort_values()\n",
    "#transfreq['productID'].value_counts()\n",
    "memberstotal = pd.merge(members,transcount,how='left',on=['memberID','memberID'])\n",
    "memberstotal['Transactions_count'] = memberstotal['Transactions_count'].fillna(0)\n",
    "memberstotal['Transactions_count'] = memberstotal['Transactions_count'].astype(np.int64)\n",
    "\n",
    "mt = memberstotal[['deviceOS','Transactions_count']]\n",
    "\n",
    "tr_iOS = mt[mt['deviceOS'] == 'iOS']\n",
    "tr_and = mt[mt['deviceOS'] == 'android']\n",
    "tr_and.Transactions_count.sum()\n",
    "tr_iOS.Transactions_count.sum()\n",
    "\n",
    "#This code was used to check the numbers of unvalidated transactions (=159)\n",
    "\"\"\"\n",
    "transac = transactions[['deviceOS','validated']]\n",
    "Os = transac.deviceOS\n",
    "val = transac.validated\n",
    "transac['validated'].value_counts()\n",
    "transac_validated = transac[transac.validated != 0]\n",
    "\n",
    "transac.validated.value_counts()\n",
    "\"\"\""
   ]
  },
  {
   "cell_type": "code",
   "execution_count": 426,
   "metadata": {},
   "outputs": [
    {
     "data": {
      "image/png": "[encoded data removed]",
      "text/plain": [
       "<Figure size 432x288 with 1 Axes>"
      ]
     },
     "metadata": {
      "needs_background": "light"
     },
     "output_type": "display_data"
    }
   ],
   "source": [
    "fig = plt.figure()\n",
    "ax = fig.add_axes([1,1,0.5,1.5])\n",
    "plt.ylabel('Nb of transactions')\n",
    "plt.xlabel('Device OS');\n",
    "plt.title('Nb of transactions per Device', fontsize=15)\n",
    "ax.bar(['Android','iOS'],[tr_and.Transactions_count.sum(),tr_iOS.Transactions_count.sum()])\n",
    "\n",
    "plt.show()"
   ]
  },
  {
   "cell_type": "markdown",
   "metadata": {},
   "source": [
    "Most of the transactions are done by iOS users."
   ]
  },
  {
   "cell_type": "markdown",
   "metadata": {},
   "source": [
    "# Data Engineering"
   ]
  },
  {
   "cell_type": "markdown",
   "metadata": {},
   "source": [
    "### Convert these .csv files into three tables  in a sql database\n",
    "Next step shoud be to add key constraints for memberID (primary key and foreign key)."
   ]
  },
  {
   "cell_type": "code",
   "execution_count": 442,
   "metadata": {},
   "outputs": [
    {
     "name": "stdout",
     "output_type": "stream",
     "text": [
      "Table 'members' already exists.\n"
     ]
    }
   ],
   "source": [
    "\n",
    "dataFrame   = pd.DataFrame(data=members)   \n",
    "tables =[\"members\",\"maus\",\"transactions\"]\n",
    "tdata = [members,maus,transactions ]\n",
    "\n",
    "sqlEngine   = create_engine('mysql+pymysql://root:@127.0.0.1/test', pool_recycle=3600)\n",
    "dbConnection= sqlEngine.connect()\n",
    "\n",
    "try:\n",
    "    for i in range(0,len(tables)):\n",
    "        frame = tdata[i].to_sql(tables[i], dbConnection, if_exists='fail');\n",
    "except ValueError as vx:\n",
    "    print(vx)\n",
    "except Exception as ex:   \n",
    "    print(ex)\n",
    "else:\n",
    "    print(\"Table %s created successfully.\"%tableName);   \n",
    "finally:\n",
    "    dbConnection.close()\n",
    "    \n",
    "#Warning because of the large size of one receipt \n"
   ]
  },
  {
   "cell_type": "markdown",
   "metadata": {},
   "source": [
    "### Export these three tables as a .sql file"
   ]
  },
  {
   "cell_type": "markdown",
   "metadata": {},
   "source": [
    "They are included in the mail. Data were hosted on MariaDb database."
   ]
  },
  {
   "cell_type": "code",
   "execution_count": null,
   "metadata": {},
   "outputs": [],
   "source": []
  }
 ],
 "metadata": {
  "kernelspec": {
   "display_name": "Python 3",
   "language": "python",
   "name": "python3"
  },
  "language_info": {
   "codemirror_mode": {
    "name": "ipython",
    "version": 3
   },
   "file_extension": ".py",
   "mimetype": "text/x-python",
   "name": "python",
   "nbconvert_exporter": "python",
   "pygments_lexer": "ipython3",
   "version": "3.7.3"
  }
 },
 "nbformat": 4,
 "nbformat_minor": 2
}
